{
 "cells": [
  {
   "cell_type": "code",
   "execution_count": 1,
   "metadata": {
    "collapsed": true
   },
   "outputs": [],
   "source": [
    "import nltk"
   ]
  },
  {
   "cell_type": "code",
   "execution_count": 4,
   "metadata": {},
   "outputs": [],
   "source": [
    "from nltk.tokenize import word_tokenize, sent_tokenize\n",
    "from nltk.corpus import stopwords\n",
    "from string import punctuation"
   ]
  },
  {
   "cell_type": "code",
   "execution_count": 5,
   "metadata": {
    "collapsed": true
   },
   "outputs": [],
   "source": [
    "text = \"This is the beginning of the future. This is the future\""
   ]
  },
  {
   "cell_type": "code",
   "execution_count": 6,
   "metadata": {},
   "outputs": [
    {
     "data": {
      "text/plain": [
       "['This',\n",
       " 'is',\n",
       " 'the',\n",
       " 'beginning',\n",
       " 'of',\n",
       " 'the',\n",
       " 'future',\n",
       " '.',\n",
       " 'This',\n",
       " 'is',\n",
       " 'the',\n",
       " 'future']"
      ]
     },
     "execution_count": 6,
     "metadata": {},
     "output_type": "execute_result"
    }
   ],
   "source": [
    "words = word_tokenize(text)\n",
    "words"
   ]
  },
  {
   "cell_type": "code",
   "execution_count": 7,
   "metadata": {},
   "outputs": [
    {
     "data": {
      "text/plain": [
       "['This is the beginning of the future.', 'This is the future']"
      ]
     },
     "execution_count": 7,
     "metadata": {},
     "output_type": "execute_result"
    }
   ],
   "source": [
    "sents = sent_tokenize(text)\n",
    "sents"
   ]
  },
  {
   "cell_type": "code",
   "execution_count": 10,
   "metadata": {},
   "outputs": [
    {
     "data": {
      "text/plain": [
       "[['This', 'is', 'the', 'beginning', 'of', 'the', 'future', '.'],\n",
       " ['This', 'is', 'the', 'future']]"
      ]
     },
     "execution_count": 10,
     "metadata": {},
     "output_type": "execute_result"
    }
   ],
   "source": [
    "sents_w = [word_tokenize(sent) for sent in sents]\n",
    "sents_w"
   ]
  },
  {
   "cell_type": "code",
   "execution_count": 11,
   "metadata": {
    "collapsed": true
   },
   "outputs": [],
   "source": [
    "customstopwords = set(stopwords.words('english')+list(punctuation))"
   ]
  },
  {
   "cell_type": "code",
   "execution_count": 13,
   "metadata": {},
   "outputs": [
    {
     "data": {
      "text/plain": [
       "['This', 'beginning', 'future', 'This', 'future']"
      ]
     },
     "execution_count": 13,
     "metadata": {},
     "output_type": "execute_result"
    }
   ],
   "source": [
    "words_wsw = [word for word in word_tokenize(text) if word not in customstopwords]\n",
    "words_wsw"
   ]
  },
  {
   "cell_type": "code",
   "execution_count": 15,
   "metadata": {},
   "outputs": [
    {
     "data": {
      "text/plain": [
       "[(('This', 'beginning'), 1),\n",
       " (('This', 'future'), 1),\n",
       " (('beginning', 'future'), 1),\n",
       " (('future', 'This'), 1)]"
      ]
     },
     "execution_count": 15,
     "metadata": {},
     "output_type": "execute_result"
    }
   ],
   "source": [
    "from nltk.collocations import *\n",
    "bigram_measures = nltk.collocations.BigramAssocMeasures()\n",
    "finder = BigramCollocationFinder.from_words(words_wsw)\n",
    "sorted(finder.ngram_fd.items())"
   ]
  },
  {
   "cell_type": "code",
   "execution_count": 18,
   "metadata": {},
   "outputs": [
    {
     "data": {
      "text/plain": [
       "['mary',\n",
       " 'clos',\n",
       " 'on',\n",
       " 'clos',\n",
       " 'night',\n",
       " 'when',\n",
       " 'she',\n",
       " 'was',\n",
       " 'in',\n",
       " 'the',\n",
       " 'mood',\n",
       " 'to',\n",
       " 'clos',\n",
       " '.']"
      ]
     },
     "execution_count": 18,
     "metadata": {},
     "output_type": "execute_result"
    }
   ],
   "source": [
    "text2 = \"Mary closed on closing night when she was in the mood to close.\"\n",
    "from nltk.stem import LancasterStemmer\n",
    "st = LancasterStemmer()\n",
    "stemmed_words = [st.stem(word) for word in word_tokenize(text2)]\n",
    "stemmed_words"
   ]
  },
  {
   "cell_type": "code",
   "execution_count": 19,
   "metadata": {},
   "outputs": [
    {
     "data": {
      "text/plain": [
       "[(('clos', '.'), 1),\n",
       " (('clos', 'night'), 1),\n",
       " (('clos', 'on'), 1),\n",
       " (('in', 'the'), 1),\n",
       " (('mary', 'clos'), 1),\n",
       " (('mood', 'to'), 1),\n",
       " (('night', 'when'), 1),\n",
       " (('on', 'clos'), 1),\n",
       " (('she', 'was'), 1),\n",
       " (('the', 'mood'), 1),\n",
       " (('to', 'clos'), 1),\n",
       " (('was', 'in'), 1),\n",
       " (('when', 'she'), 1)]"
      ]
     },
     "execution_count": 19,
     "metadata": {},
     "output_type": "execute_result"
    }
   ],
   "source": [
    "finder = BigramCollocationFinder.from_words(stemmed_words)\n",
    "sorted(finder.ngram_fd.items())"
   ]
  },
  {
   "cell_type": "code",
   "execution_count": 21,
   "metadata": {},
   "outputs": [
    {
     "name": "stdout",
     "output_type": "stream",
     "text": [
      "[nltk_data] Downloading package averaged_perceptron_tagger to\n",
      "[nltk_data]     C:\\Users\\ALU STUDENT\\AppData\\Roaming\\nltk_data...\n",
      "[nltk_data]   Unzipping taggers\\averaged_perceptron_tagger.zip.\n"
     ]
    },
    {
     "data": {
      "text/plain": [
       "[('mary', 'JJ'),\n",
       " ('clos', 'NN'),\n",
       " ('on', 'IN'),\n",
       " ('clos', 'NN'),\n",
       " ('night', 'NN'),\n",
       " ('when', 'WRB'),\n",
       " ('she', 'PRP'),\n",
       " ('was', 'VBD'),\n",
       " ('in', 'IN'),\n",
       " ('the', 'DT'),\n",
       " ('mood', 'NN'),\n",
       " ('to', 'TO'),\n",
       " ('clos', 'VB'),\n",
       " ('.', '.')]"
      ]
     },
     "execution_count": 21,
     "metadata": {},
     "output_type": "execute_result"
    }
   ],
   "source": [
    "nltk.download('averaged_perceptron_tagger')\n",
    "nltk.pos_tag(stemmed_words)"
   ]
  },
  {
   "cell_type": "code",
   "execution_count": 27,
   "metadata": {},
   "outputs": [
    {
     "name": "stdout",
     "output_type": "stream",
     "text": [
      "[nltk_data] Downloading package wordnet to C:\\Users\\ALU\n",
      "[nltk_data]     STUDENT\\AppData\\Roaming\\nltk_data...\n",
      "[nltk_data]   Package wordnet is already up-to-date!\n",
      "Synset('beat.n.01') a regular route for a sentry or policeman\n",
      "Synset('pulse.n.02') the rhythmic contraction and expansion of the arteries with each beat of the heart\n",
      "Synset('rhythm.n.01') the basic rhythmic unit in a piece of music\n",
      "Synset('beat.n.04') a single pulsation of an oscillation produced by adding two waves of different frequencies; has a frequency equal to the difference between the two oscillations\n",
      "Synset('beatnik.n.01') a member of the beat generation; a nonconformist in dress and behavior\n",
      "Synset('beat.n.06') the sound of stroke or blow\n",
      "Synset('meter.n.03') (prosody) the accent in a metrical foot of verse\n",
      "Synset('beat.n.08') a regular rate of repetition\n",
      "Synset('beat.n.09') a stroke or blow\n",
      "Synset('beat.n.10') the act of beating to windward; sailing as close as possible to the direction from which the wind is blowing\n",
      "Synset('beat.v.01') come out better in a competition, race, or conflict\n",
      "Synset('beat.v.02') give a beating to; subject to a beating, either as a punishment or as an act of aggression\n",
      "Synset('beat.v.03') hit repeatedly\n",
      "Synset('beat.v.04') move rhythmically\n",
      "Synset('beat.v.05') shape by beating\n",
      "Synset('drum.v.01') make a rhythmic sound\n",
      "Synset('beat.v.07') glare or strike with great intensity\n",
      "Synset('beat.v.08') move with a thrashing motion\n",
      "Synset('beat.v.09') sail with much tacking or with difficulty\n",
      "Synset('beat.v.10') stir vigorously\n",
      "Synset('beat.v.11') strike (a part of one's own body) repeatedly, as in great emotion or in accompaniment to music\n",
      "Synset('beat.v.12') be superior\n",
      "Synset('beat.v.13') avoid paying\n",
      "Synset('tick.v.02') make a sound like a clock or a timer\n",
      "Synset('beat.v.15') move with a flapping motion\n",
      "Synset('beat.v.16') indicate by beating, as with the fingers or drumsticks\n",
      "Synset('pulsate.v.02') move with or as if with a regular alternating motion\n",
      "Synset('beat.v.18') make by pounding or trampling\n",
      "Synset('beat.v.19') produce a rhythm by striking repeatedly\n",
      "Synset('beat.v.20') strike (water or bushes) repeatedly to rouse animals for hunting\n",
      "Synset('outwit.v.01') beat through cleverness and wit\n",
      "Synset('perplex.v.01') be a mystery or bewildering to\n",
      "Synset('exhaust.v.01') wear out completely\n",
      "Synset('all_in.s.01') very tired\n"
     ]
    }
   ],
   "source": [
    "nltk.download('wordnet')\n",
    "from nltk.corpus import wordnet as wn\n",
    "for ss in wn.synsets('beat'):\n",
    "    print(ss, ss.definition())"
   ]
  },
  {
   "cell_type": "code",
   "execution_count": 29,
   "metadata": {},
   "outputs": [
    {
     "name": "stdout",
     "output_type": "stream",
     "text": [
      "Synset('tone.v.03') change the color or tone of\n"
     ]
    }
   ],
   "source": [
    "from nltk.wsd import lesk\n",
    "sense1 = lesk(word_tokenize(\"Please turn up your tone when singing\"), 'tone')\n",
    "print (sense1, sense1.definition())"
   ]
  },
  {
   "cell_type": "code",
   "execution_count": null,
   "metadata": {
    "collapsed": true
   },
   "outputs": [],
   "source": []
  }
 ],
 "metadata": {
  "kernelspec": {
   "display_name": "Python 3",
   "language": "python",
   "name": "python3"
  },
  "language_info": {
   "codemirror_mode": {
    "name": "ipython",
    "version": 3
   },
   "file_extension": ".py",
   "mimetype": "text/x-python",
   "name": "python",
   "nbconvert_exporter": "python",
   "pygments_lexer": "ipython3",
   "version": "3.6.3"
  }
 },
 "nbformat": 4,
 "nbformat_minor": 2
}
